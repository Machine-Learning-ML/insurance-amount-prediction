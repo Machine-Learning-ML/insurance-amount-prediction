{
 "cells": [
  {
   "cell_type": "code",
   "execution_count": 31,
   "metadata": {},
   "outputs": [],
   "source": [
    "import pandas as pd\n",
    "from sklearn.preprocessing import LabelEncoder\n",
    "from sklearn.model_selection import train_test_split\n",
    "from sklearn.linear_model import LinearRegression\n",
    "from sklearn.metrics import accuracy_score\n",
    "from sklearn.metrics import r2_score"
   ]
  },
  {
   "cell_type": "markdown",
   "metadata": {},
   "source": [
    "##### Load, Clean and Enocode the Data"
   ]
  },
  {
   "cell_type": "code",
   "execution_count": 32,
   "metadata": {},
   "outputs": [],
   "source": [
    "dataset = pd.read_csv(\"insurance.csv\")\n",
    "\n",
    "label = LabelEncoder()\n",
    "\n",
    "label.fit(dataset[\"sex\"].drop_duplicates())\n",
    "dataset[\"sex\"] = label.transform(dataset[\"sex\"])\n",
    "\n",
    "label.fit(dataset[\"smoker\"].drop_duplicates())\n",
    "dataset[\"smoker\"] = label.transform(dataset[\"smoker\"])\n",
    "\n",
    "label.fit(dataset[\"region\"].drop_duplicates())\n",
    "dataset[\"region\"] = label.transform(dataset[\"region\"])\n"
   ]
  },
  {
   "cell_type": "markdown",
   "metadata": {},
   "source": [
    "##### Splitting the DataSet"
   ]
  },
  {
   "cell_type": "code",
   "execution_count": 33,
   "metadata": {},
   "outputs": [],
   "source": [
    "X = dataset.drop(\"charges\", axis=1)\n",
    "Y = dataset[\"charges\"]\n",
    "\n",
    "X_train, X_test, Y_train, Y_test = train_test_split(X, Y, test_size=0.2, random_state=42)\n"
   ]
  },
  {
   "cell_type": "markdown",
   "metadata": {},
   "source": [
    "##### Traning and Predect the Model"
   ]
  },
  {
   "cell_type": "code",
   "execution_count": 34,
   "metadata": {},
   "outputs": [
    {
     "name": "stdout",
     "output_type": "stream",
     "text": [
      "The Predict Value :  8248.705914041102\n",
      "The accutal value :  8688.85885\n",
      "R-squared value: 0.7973914404805349\n"
     ]
    }
   ],
   "source": [
    "linear_model = LinearRegression()\n",
    "linear_model.fit(X_train, Y_train)\n",
    "\n",
    "pred = linear_model.predict(X_test)\n",
    "predect_value = pred[0]\n",
    "\n",
    "print(\"The Predict Value : \",predect_value)\n",
    "accutal_value = Y_test.iloc[0]\n",
    "\n",
    "\n",
    "print(\"The accutal value : \",accutal_value)\n",
    "linear_model.score(X_test, pred)\n",
    "\n",
    "# Calculate R-squared\n",
    "r_squared = r2_score(Y_test, pred)\n",
    "print(\"R-squared value:\", r_squared)\n"
   ]
  },
  {
   "cell_type": "markdown",
   "metadata": {},
   "source": [
    "##### Model Parameters"
   ]
  },
  {
   "cell_type": "code",
   "execution_count": 35,
   "metadata": {},
   "outputs": [
    {
     "name": "stdout",
     "output_type": "stream",
     "text": [
      "The coefficient for age is 248.99596360332313\n",
      "The coefficient for sex is -173.7310443516439\n",
      "The coefficient for bmi is 308.4942075049634\n",
      "The coefficient for children is 476.85286573094646\n",
      "The coefficient for smoker is 23224.733044018234\n",
      "The coefficient for region is -320.8715301872496\n",
      "-10724.112340144338\n"
     ]
    }
   ],
   "source": [
    "for idx, col_name in enumerate(X_train.columns):\n",
    "    print(\"The coefficient for {} is {}\".format(col_name, linear_model.coef_[idx]))\n",
    "\n",
    "intercept = linear_model.intercept_\n",
    "print(intercept)\n"
   ]
  },
  {
   "cell_type": "code",
   "execution_count": null,
   "metadata": {},
   "outputs": [],
   "source": []
  }
 ],
 "metadata": {
  "kernelspec": {
   "display_name": "base",
   "language": "python",
   "name": "python3"
  },
  "language_info": {
   "codemirror_mode": {
    "name": "ipython",
    "version": 3
   },
   "file_extension": ".py",
   "mimetype": "text/x-python",
   "name": "python",
   "nbconvert_exporter": "python",
   "pygments_lexer": "ipython3",
   "version": "3.12.7"
  }
 },
 "nbformat": 4,
 "nbformat_minor": 2
}
